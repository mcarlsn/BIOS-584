{
 "cells": [
  {
   "cell_type": "markdown",
   "id": "f8ed8208-440c-4e5c-93f0-304ba027e9fb",
   "metadata": {},
   "source": [
    "BIOS-584 Quiz 1\n",
    "Madelyn Carlson"
   ]
  },
  {
   "cell_type": "markdown",
   "id": "c2471809-d750-4516-80cb-2dedaff765ad",
   "metadata": {},
   "source": [
    "First, I create a list called \"cat1\""
   ]
  },
  {
   "cell_type": "code",
   "execution_count": 4,
   "id": "3cd1f747-2e05-4465-b50e-1927bbb91d3f",
   "metadata": {},
   "outputs": [],
   "source": [
    "cat1 = ['cat1', 'cat1', 'cat1']"
   ]
  },
  {
   "cell_type": "code",
   "execution_count": 5,
   "id": "edcb284d-a586-4e05-b232-2e781de7ba68",
   "metadata": {},
   "outputs": [
    {
     "name": "stdout",
     "output_type": "stream",
     "text": [
      "['cat1', 'cat1', 'cat1']\n"
     ]
    }
   ],
   "source": [
    "print(cat1)"
   ]
  },
  {
   "cell_type": "markdown",
   "id": "62b347d2-9ca3-408f-b4d1-a45db27c5163",
   "metadata": {},
   "source": [
    "Then, I append the list with a new item called \"cat2\""
   ]
  },
  {
   "cell_type": "code",
   "execution_count": 6,
   "id": "e7a60e78-f0ff-4f48-af1f-7bf6b4b1c1b3",
   "metadata": {},
   "outputs": [],
   "source": [
    "cat1.append('cat2')"
   ]
  },
  {
   "cell_type": "code",
   "execution_count": 7,
   "id": "02146a69-d56b-4ce0-af31-e6e29c60f657",
   "metadata": {},
   "outputs": [
    {
     "name": "stdout",
     "output_type": "stream",
     "text": [
      "['cat1', 'cat1', 'cat1', 'cat2']\n"
     ]
    }
   ],
   "source": [
    "print(cat1)"
   ]
  },
  {
   "cell_type": "markdown",
   "id": "8c934b64-b737-4b23-9b82-d60e3407b3eb",
   "metadata": {},
   "source": [
    "Next, I use the .clear() function to clear the list"
   ]
  },
  {
   "cell_type": "code",
   "execution_count": 9,
   "id": "63bb1d55-d415-4dd7-aa7c-d5e59b9b47d1",
   "metadata": {},
   "outputs": [],
   "source": [
    "cat1.clear()"
   ]
  },
  {
   "cell_type": "code",
   "execution_count": 10,
   "id": "33c46176-a646-4190-bd79-a088de5551c4",
   "metadata": {},
   "outputs": [
    {
     "name": "stdout",
     "output_type": "stream",
     "text": [
      "[]\n"
     ]
    }
   ],
   "source": [
    "print(cat1)"
   ]
  },
  {
   "cell_type": "markdown",
   "id": "1e4be1ec-206a-4e48-b732-588de40cfbc0",
   "metadata": {},
   "source": [
    "The list is now empty. Next step: I am going to repopulate the list in order to use the .copy() function"
   ]
  },
  {
   "cell_type": "code",
   "execution_count": 18,
   "id": "b39c8db7-1813-4090-96de-7bd78c5d06c6",
   "metadata": {},
   "outputs": [],
   "source": [
    "cat1 = ['cat1', 'cat1', 'cat1']"
   ]
  },
  {
   "cell_type": "markdown",
   "id": "e8ef701e-2441-4068-9e44-b2c335b0a6c7",
   "metadata": {},
   "source": [
    "Now that I've repopulated the list, I am going to copy the list in a separate called \"acopyofthelist\""
   ]
  },
  {
   "cell_type": "code",
   "execution_count": 19,
   "id": "8545af5a-372b-44b5-90d1-25da1bd16f33",
   "metadata": {},
   "outputs": [],
   "source": [
    "acopyofthelist = cat1.copy()"
   ]
  },
  {
   "cell_type": "code",
   "execution_count": 20,
   "id": "b529e39f-b310-4520-b653-1b82559b4c21",
   "metadata": {},
   "outputs": [
    {
     "name": "stdout",
     "output_type": "stream",
     "text": [
      "['cat1', 'cat1', 'cat1']\n"
     ]
    }
   ],
   "source": [
    "print(acopyofthelist)"
   ]
  },
  {
   "cell_type": "markdown",
   "id": "d35e2c2a-da41-4e7b-bddc-c35eaf27c4c0",
   "metadata": {},
   "source": [
    "In the next step, I count the instances \"cat1\" is listed"
   ]
  },
  {
   "cell_type": "code",
   "execution_count": 44,
   "id": "80ca034b-8e64-4eef-85b2-206d738047cb",
   "metadata": {},
   "outputs": [
    {
     "data": {
      "text/plain": [
       "2"
      ]
     },
     "execution_count": 44,
     "metadata": {},
     "output_type": "execute_result"
    }
   ],
   "source": [
    "['cat1', 'cat1', 'cat2'].count('cat1')"
   ]
  },
  {
   "cell_type": "markdown",
   "id": "1d2e0876-b130-49ce-922f-464c6f80a6b5",
   "metadata": {},
   "source": [
    "Index"
   ]
  },
  {
   "cell_type": "code",
   "execution_count": 49,
   "id": "77558d5e-6082-4863-b354-59640ca50673",
   "metadata": {},
   "outputs": [
    {
     "data": {
      "text/plain": [
       "2"
      ]
     },
     "execution_count": 49,
     "metadata": {},
     "output_type": "execute_result"
    }
   ],
   "source": [
    "['cat1', 'cat1', 'cat2'].index('cat2')"
   ]
  },
  {
   "cell_type": "code",
   "execution_count": 50,
   "id": "f769d9df-9610-44c7-a668-46024bcbb980",
   "metadata": {},
   "outputs": [],
   "source": [
    "['cat1', 'cat1', 'cat2'].insert(1, 'cat2')"
   ]
  },
  {
   "cell_type": "code",
   "execution_count": 51,
   "id": "9ff63e5a-45a6-4e56-8cb8-db89b2287a68",
   "metadata": {},
   "outputs": [],
   "source": [
    "cat2 = ['cat1', 'cat1', 'cat2'].pop(2)"
   ]
  },
  {
   "cell_type": "code",
   "execution_count": 52,
   "id": "91984be5-afa7-4ad8-8cc2-dceecb7db36e",
   "metadata": {},
   "outputs": [],
   "source": [
    "cat2 = ['cat1', 'cat1', 'cat2'].remove('cat2')"
   ]
  },
  {
   "cell_type": "code",
   "execution_count": 53,
   "id": "7e6d0b7e-d952-4139-9a4b-9b8975b8d987",
   "metadata": {},
   "outputs": [],
   "source": [
    "cat2 = ['cat1', 'cat1', 'cat2'].reverse()"
   ]
  }
 ],
 "metadata": {
  "kernelspec": {
   "display_name": "Python 3 (ipykernel)",
   "language": "python",
   "name": "python3"
  },
  "language_info": {
   "codemirror_mode": {
    "name": "ipython",
    "version": 3
   },
   "file_extension": ".py",
   "mimetype": "text/x-python",
   "name": "python",
   "nbconvert_exporter": "python",
   "pygments_lexer": "ipython3",
   "version": "3.13.7"
  }
 },
 "nbformat": 4,
 "nbformat_minor": 5
}
