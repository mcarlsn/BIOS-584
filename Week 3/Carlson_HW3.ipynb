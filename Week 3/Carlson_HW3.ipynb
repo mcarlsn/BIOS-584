{
 "cells": [
  {
   "attachments": {},
   "cell_type": "markdown",
   "metadata": {},
   "source": [
    "# HW3 (20')"
   ]
  },
  {
   "attachments": {},
   "cell_type": "markdown",
   "metadata": {},
   "source": [
    "## Submit as an HTML or PDF file"
   ]
  },
  {
   "attachments": {},
   "cell_type": "markdown",
   "metadata": {},
   "source": [
    "Print your name (First Name and Last Name) below"
   ]
  },
  {
   "cell_type": "code",
   "execution_count": 1,
   "metadata": {
    "ExecuteTime": {
     "end_time": "2025-09-18T16:04:48.978960Z",
     "start_time": "2025-09-18T16:04:48.975979Z"
    }
   },
   "outputs": [
    {
     "name": "stdout",
     "output_type": "stream",
     "text": [
      "Madelyn Carlson\n"
     ]
    }
   ],
   "source": [
    "import numpy\n",
    "\n",
    "print('Madelyn Carlson')"
   ]
  },
  {
   "attachments": {},
   "cell_type": "markdown",
   "metadata": {},
   "source": [
    "- Import the `numpy` and `matplotlib` packages and rename them to their alias.\n",
    "- Import `scipy` (no renaming)."
   ]
  },
  {
   "cell_type": "code",
   "execution_count": 39,
   "metadata": {
    "ExecuteTime": {
     "end_time": "2025-09-19T13:10:48.452595Z",
     "start_time": "2025-09-19T13:10:48.313150Z"
    }
   },
   "outputs": [],
   "source": [
    "import numpy as np\n",
    "import matplotlib as mat\n",
    "import scipy\n",
    "from scipy.stats import poisson\n",
    "import matplotlib.pyplot as plt"
   ]
  },
  {
   "attachments": {},
   "cell_type": "markdown",
   "metadata": {},
   "source": [
    "## (a) Compute a probability mass function for Poisson distribution with a parameter $\\lambda$. \n",
    "\n",
    "$P(X=k) = \\lambda^k \\exp(-\\lambda)/k!$, where $k\\in\\mathbb{N}_0$\n",
    "\n",
    "Calculate $P(X=k)$ when\n",
    "- $\\lambda=1.5$\n",
    "- $k=5$\n",
    "\n",
    "To get full points:\n",
    "- First define each of these input variables and assign them with pre-specified values **(1')**\n",
    "- For the factorial, you can use `np.arange()` and `np.prod()` **(1')**\n",
    "- Define `P_val` and write the formula above **(1')**\n",
    "- Use the built-in function `scipy.stats.poisson.pmf()` to compute the pmf, denoted as `P_scipy_val` **(1')**\n",
    "    - https://docs.scipy.org/doc/scipy/reference/generated/scipy.stats.poisson.html \n",
    "- Print two results together **(1')**"
   ]
  },
  {
   "cell_type": "code",
   "execution_count": 21,
   "metadata": {
    "ExecuteTime": {
     "end_time": "2025-09-18T20:39:51.005961Z",
     "start_time": "2025-09-18T20:39:50.996794Z"
    }
   },
   "outputs": [],
   "source": [
    "# First, define the input variables and assign them with pre-specified values\n",
    "lambda_val = 1.5\n",
    "k_val = 5"
   ]
  },
  {
   "cell_type": "code",
   "execution_count": 22,
   "metadata": {
    "ExecuteTime": {
     "end_time": "2025-09-18T20:39:52.339341Z",
     "start_time": "2025-09-18T20:39:52.336447Z"
    }
   },
   "outputs": [
    {
     "name": "stdout",
     "output_type": "stream",
     "text": [
      "1.5\n",
      "5\n"
     ]
    }
   ],
   "source": [
    "print(lambda_val)\n",
    "print(k_val)"
   ]
  },
  {
   "cell_type": "code",
   "execution_count": 32,
   "metadata": {
    "ExecuteTime": {
     "end_time": "2025-09-18T21:09:16.838150Z",
     "start_time": "2025-09-18T21:09:16.834400Z"
    }
   },
   "outputs": [],
   "source": [
    "a = lambda_val**(k_val)\n",
    "b = np.exp(-lambda_val)\n",
    "c = np.prod(np.arange(1, k_val + 1))"
   ]
  },
  {
   "cell_type": "code",
   "execution_count": 33,
   "metadata": {
    "ExecuteTime": {
     "end_time": "2025-09-18T21:09:22.125485Z",
     "start_time": "2025-09-18T21:09:22.122135Z"
    }
   },
   "outputs": [
    {
     "name": "stdout",
     "output_type": "stream",
     "text": [
      "0.014119955446892825\n"
     ]
    }
   ],
   "source": [
    "P_val = a*b/c\n",
    "print(P_val)"
   ]
  },
  {
   "cell_type": "code",
   "execution_count": 34,
   "metadata": {
    "ExecuteTime": {
     "end_time": "2025-09-18T21:09:23.997621Z",
     "start_time": "2025-09-18T21:09:23.994646Z"
    }
   },
   "outputs": [
    {
     "name": "stdout",
     "output_type": "stream",
     "text": [
      "0.014119955446892825\n"
     ]
    }
   ],
   "source": [
    "# You could also write this formula like this:\n",
    "P_val = lambda_val**(k_val)*np.exp(-lambda_val)/np.prod(np.arange(1, k_val + 1))\n",
    "print(P_val)"
   ]
  },
  {
   "cell_type": "code",
   "execution_count": 35,
   "metadata": {
    "ExecuteTime": {
     "end_time": "2025-09-18T21:09:52.115077Z",
     "start_time": "2025-09-18T21:09:52.110066Z"
    }
   },
   "outputs": [
    {
     "name": "stdout",
     "output_type": "stream",
     "text": [
      "PMF for k = 5 and lambda = 1.5: 0.014119955446892832\n"
     ]
    }
   ],
   "source": [
    "# Use the built-in function to compute the PMF\n",
    "P_scipy_val = scipy.stats.poisson.pmf(k_val, mu=lambda_val)\n",
    "print(f\"PMF for k = {k_val} and lambda = {lambda_val}: {P_scipy_val}\")"
   ]
  },
  {
   "cell_type": "markdown",
   "metadata": {},
   "source": [
    "## (b) Composite operations on arrays\n",
    "\n",
    "<font color='red'> **To develop a good naming habit, I recommend you add the type information to the name of the variable. For example, if it is a scalar, you can add `_val`; if it is a vec, you can add `_vec`; if it is a matrix, you can add `_mat`, if it is a boolean, you can add `_bool`, etc.** </font>\n",
    "\n",
    "- Define `r_val` as 0.06\n",
    "- Define two arrays $a$ and $t$ using `np.array()`, renaming them as `a_vec` and `t_vec`, assigning the following values: **(1')**\n",
    "\n",
    "$ a = \\begin{pmatrix} a_0 \\\\ a_1 \\\\ a_2 \\end{pmatrix} = \\begin{pmatrix} 20 \\\\ 30 \\\\ 15 \\end{pmatrix}, \\qquad t = \\begin{pmatrix} t_0 \\\\ t_1 \\\\ t_2 \\end{pmatrix} = \\begin{pmatrix} 0 \\\\ 1 \\\\ 2 \\end{pmatrix} $\n",
    "\n",
    "- Use element-by-element vector operations to compute a new array `m_vec` of length 3 as follows: **(1')** <br>\n",
    "\n",
    "$ m = \\begin{pmatrix} a_0 / (1+r)^{t_0} \\\\ a_1 / (1+r)^{t_1} \\\\ a_2 / (1+r)^{t_2} \\end{pmatrix} $\n",
    "\n",
    "- Compute the sum of the values of $m$ **(1')**\n",
    "    - You can either use `np.sum()` or `m_vec.sum()`.\n",
    "    - I am using subscripts to denote the individual elements of $a$ and $t$. In the code just enter the values of $a$ and $t$.\n",
    "\n",
    "- Compute the inner product (or Euclidean distance) of `m_vec` manually.\n",
    "- $||m||_2 = \\sqrt{m^\\top * m}$, where $^\\top$ is the transpose operator, and $*$ is the matrix operator (not element-wise multiplication).\n",
    "  - You can use `^T` to compute transpose or use `np.transpose()`. **(1')**\n",
    "  - You can use `@` to perform matrix multiplication or use `np.matmul()`. Make sure the dimension is correct. **(1')**\n",
    "  - Use `np.sqrt()` to compute the square root.\n",
    "  - Print out your final result and compare it to the built-in function `np.linalg.norm(m_vec, ord=2)`.\n"
   ]
  },
  {
   "cell_type": "code",
   "execution_count": 31,
   "metadata": {
    "ExecuteTime": {
     "end_time": "2025-09-19T12:53:25.760497Z",
     "start_time": "2025-09-19T12:53:25.750441Z"
    }
   },
   "outputs": [
    {
     "name": "stdout",
     "output_type": "stream",
     "text": [
      "[20 30 15] [0 1 2]\n",
      "20\n",
      "[20.         28.30188679 13.3499466 ]\n",
      "61.65183339266643\n",
      "Euclidean distance: 37.13782263732448\n"
     ]
    }
   ],
   "source": [
    "# Define `r_val` as 0.06\n",
    "r_val = 0.06\n",
    "# Define two arrays a_vec and t_vec\n",
    "a_vec = np.array([20,30,15])\n",
    "t_vec = np.array([0,1,2])\n",
    "print(a_vec,t_vec)\n",
    "print(a_vec[0])\n",
    "# Now, using ele\n",
    "m_vec = (a_vec/(1+r_val)**t_vec)\n",
    "print(m_vec)\n",
    "# Compute the sum of values of m_vec\n",
    "sum_m_vec = m_vec.sum()\n",
    "print(sum_m_vec)\n",
    "# Compute inner product (or Euclidean distance) of m_vec. Euclidean distance is the shortest between the 2 points irrespective of the dimensions. I am going to compute this two different ways using this guide as a reference: https://www.geeksforgeeks.org/python/calculate-the-euclidean-distance-using-numpy/\n",
    "# First way using np.linalg.norm()\n",
    "euclidean_distance_a = np.linalg.norm(m_vec)\n",
    "# Could this also be written as np.linalg.norm(a_vec-t_vec) ?\n",
    "print(\"Euclidean distance:\", euclidean_distance_a)"
   ]
  },
  {
   "cell_type": "code",
   "execution_count": 32,
   "metadata": {
    "ExecuteTime": {
     "end_time": "2025-09-19T12:53:27.426554Z",
     "start_time": "2025-09-19T12:53:27.424070Z"
    }
   },
   "outputs": [
    {
     "name": "stdout",
     "output_type": "stream",
     "text": [
      "Euclidean distance: 37.13782263732448\n"
     ]
    }
   ],
   "source": [
    "# Second way using **\n",
    "euclidean_distance_b = np.sqrt(np.sum(m_vec ** 2))\n",
    "print(\"Euclidean distance:\", euclidean_distance_b)"
   ]
  },
  {
   "cell_type": "code",
   "execution_count": 36,
   "metadata": {
    "ExecuteTime": {
     "end_time": "2025-09-19T13:03:01.347208Z",
     "start_time": "2025-09-19T13:03:01.340906Z"
    }
   },
   "outputs": [
    {
     "name": "stdout",
     "output_type": "stream",
     "text": [
      "37.13782263732448\n"
     ]
    }
   ],
   "source": [
    "# Next step:\n",
    "inner_product = np.matmul(np.transpose(m_vec), m_vec)\n",
    "euclidean_norm_m_vec = np.sqrt(inner_product)\n",
    "print(euclidean_norm_m_vec)"
   ]
  },
  {
   "cell_type": "code",
   "execution_count": 37,
   "metadata": {
    "ExecuteTime": {
     "end_time": "2025-09-19T13:03:03.861375Z",
     "start_time": "2025-09-19T13:03:03.855750Z"
    }
   },
   "outputs": [
    {
     "data": {
      "text/plain": [
       "np.float64(37.13782263732448)"
      ]
     },
     "execution_count": 37,
     "metadata": {},
     "output_type": "execute_result"
    }
   ],
   "source": [
    "# Comparing it to the built-in function:\n",
    "np.linalg.norm(m_vec, ord=2)"
   ]
  },
  {
   "attachments": {},
   "cell_type": "markdown",
   "metadata": {},
   "source": [
    "## (c) Plot a standard student-t random vector\n",
    "\n",
    "To get full points:\n",
    "\n",
    "- Observe the naming tradition mentioned above.\n",
    "- Set a seed with a number `612`. **(1')**\n",
    "- Define parameters and sample size and assign them to pre-specified values ahead of time.\n",
    "    - `df=1` and `size = 1000`.\n",
    "    - When degree of freedom (`df`) is 1, the student-t distribution is also known as a Cauchy distribution.\n",
    "        - It does not have a valid mean nor variance. (You will have a clearer idea when you see the histogram!)\n",
    "    - Use `ny.random.standard_t()` to generate random samples from standard student-t distributions. **(1')**\n",
    "- Create a histogram plot **(1')**\n",
    "    - Change the default color to `skyblue`. **(1')**\n",
    "    - Label the x, y axes and title properly. **(1')**\n",
    "    - **Optional**: You can change the number of `bins` in the `plt.hist()` function to obtain a granular view of the histogram. "
   ]
  },
  {
   "cell_type": "code",
   "execution_count": 42,
   "metadata": {
    "ExecuteTime": {
     "end_time": "2025-09-19T13:11:12.135395Z",
     "start_time": "2025-09-19T13:11:11.974321Z"
    }
   },
   "outputs": [
    {
     "data": {
      "image/png": "[encoded data removed]",
      "text/plain": [
       "<Figure size 640x480 with 1 Axes>"
      ]
     },
     "jetTransient": {
      "display_id": null
     },
     "metadata": {},
     "output_type": "display_data"
    }
   ],
   "source": [
    "np.random.seed(612)\n",
    "# Next, define parameters\n",
    "df = 1\n",
    "size = 1000\n",
    "t_samples_vec = np.random.standard_t(df, size)\n",
    "# print(t_samples_vec)\n",
    "# Create histogram plot using plt\n",
    "plt.hist(t_samples_vec, bins=50, color='skyblue', edgecolor='black')\n",
    "plt.title(\"Histogram of Student t-Distribution (df=1)\")\n",
    "plt.xlabel(\"Value\")\n",
    "plt.ylabel(\"Frequency\")\n",
    "plt.grid(True)\n",
    "plt.show()"
   ]
  },
  {
   "attachments": {},
   "cell_type": "markdown",
   "metadata": {},
   "source": [
    "## (d) Checking whether word is part of list\n",
    "\n",
    "- Define a variable `disease_type_str` with the value **\"Phobic anxiety disorders\"** **(1')**\n",
    "- Define a list of anxiety types `anxiety_ls` with names from the following link: **(1')**\n",
    "    - https://www.icd10data.com/ICD10CM/Codes/F01-F99/F40-F48\n",
    "    - This is the code for diagnoses related to mental health, specifically anxiety, dissociative, stress-related, somatoform, and other nonpsychotic mental disorders.\n",
    "    - Do not copy the codes!\n",
    "- Use `anxiety_ls.index()` function to export and print out the location of **\"Somatoform disorders\"** **(1')** \n",
    "- Write an expression to test whether `disease_type_str` is contained in `anxiety_ls` and store the result in a variable `result_bool_1` **(1')**\n",
    "- Change `disease_type_str` to **\"Manic episode\"** and replicate the above step with another resulting variable `result_bool_2` **(1')**\n",
    "\n",
    "To get full points run all of the above commands"
   ]
  },
  {
   "cell_type": "code",
   "execution_count": 45,
   "metadata": {
    "ExecuteTime": {
     "end_time": "2025-09-19T13:20:14.641544Z",
     "start_time": "2025-09-19T13:20:14.630517Z"
    }
   },
   "outputs": [
    {
     "name": "stdout",
     "output_type": "stream",
     "text": [
      "Index of \"Somatoform disorders\": 5\n"
     ]
    }
   ],
   "source": [
    "# Define disease_type_str\n",
    "disease_type_str = \"Phobic anxiety disorders\"\n",
    "# Define a list of anxiety types\n",
    "anxiety_ls = [\n",
    "    \"Phobic anxiety disorders\",\n",
    "    \"Other anxiety disorders\",\n",
    "    \"Obsessive-compulsive disorder\",\n",
    "    \"Reaction to severe stress, and adjustment disorders\",\n",
    "    \"Dissociative and conversion disorders\",\n",
    "    \"Somatoform disorders\",\n",
    "    \"Other nonpsychotic mental disorders\"\n",
    "]\n",
    "# Find and print the index of \"Somatoform disorders\"\n",
    "index_somatoform = anxiety_ls.index(\"Somatoform disorders\")\n",
    "print(f'Index of \"Somatoform disorders\": {index_somatoform}')"
   ]
  },
  {
   "cell_type": "code",
   "execution_count": 46,
   "metadata": {
    "ExecuteTime": {
     "end_time": "2025-09-19T13:20:41.165405Z",
     "start_time": "2025-09-19T13:20:41.156223Z"
    }
   },
   "outputs": [
    {
     "name": "stdout",
     "output_type": "stream",
     "text": [
      "Is \"Phobic anxiety disorders\" in anxiety_ls? True\n"
     ]
    }
   ],
   "source": [
    "# Check if disease_type_str is in anxiety_ls\n",
    "result_bool_1 = disease_type_str in anxiety_ls\n",
    "print(f'Is \"{disease_type_str}\" in anxiety_ls? {result_bool_1}')"
   ]
  },
  {
   "cell_type": "code",
   "execution_count": 47,
   "metadata": {
    "ExecuteTime": {
     "end_time": "2025-09-19T13:21:05.032356Z",
     "start_time": "2025-09-19T13:21:05.025483Z"
    }
   },
   "outputs": [
    {
     "name": "stdout",
     "output_type": "stream",
     "text": [
      "Is \"Manic episode\" in anxiety_ls? False\n"
     ]
    }
   ],
   "source": [
    "# Change disease_type_str to \"Manic episode\"\n",
    "disease_type_str = \"Manic episode\"\n",
    "\n",
    "# Check again if the new disease_type_str is in anxiety_ls\n",
    "result_bool_2 = disease_type_str in anxiety_ls\n",
    "print(f'Is \"{disease_type_str}\" in anxiety_ls? {result_bool_2}')"
   ]
  },
  {
   "cell_type": "markdown",
   "metadata": {},
   "source": [
    "## (e) Classifying the anxiety level based on GAD-7 evaluation\n",
    "\n",
    "Generalized Anxiety Disorder can be evaluated using a 7-item questionnaire (GAD-7) with a total score ranging from 0 to 21, where higher scores indicate more severe anxiety. \n",
    "- The score levels are generally interpreted as\n",
    "    - 0-4: Minimal\n",
    "    - 5-9: Mild\n",
    "    - 10-14: Moderate\n",
    "    - 15-21: Severe\n",
    "- A score >= 10 suggested a potential diagnosis of GAD, warranting further clinical evaluation or intervention.\n",
    "- You can find more details here: https://adaa.org/sites/default/files/GAD-7_Anxiety-updated_0.pdf.\n",
    "- Define a new variable `gad7_val` and assign the value to 6, 12, and 20. \n",
    "- Write an `if/elif/else` statement that prints out the corresponding ordinal level for the above three numerical values. **(2')**\n",
    "- Since we haven't covered functions yet, when you change `gad7_val` to a new value, you need to copy your existing control flow codes and reun them in a new code chunk. I provide three empty code chunks below for you to work on each scenario. **(3')** Each scenario's output counts as 1 point."
   ]
  },
  {
   "cell_type": "code",
   "execution_count": 48,
   "metadata": {
    "ExecuteTime": {
     "end_time": "2025-09-19T13:23:48.735614Z",
     "start_time": "2025-09-19T13:23:48.711786Z"
    }
   },
   "outputs": [
    {
     "name": "stdout",
     "output_type": "stream",
     "text": [
      "Mild Anxiety\n"
     ]
    }
   ],
   "source": [
    "# Define GAD-7 as 6\n",
    "gad7_val = 6\n",
    "\n",
    "# Next, writing `if/elif/else` statement that prints out the corresponding ordinal level for the above three numerical values\n",
    "if gad7_val <= 4: print(\"Minimal Anxiety\")\n",
    "elif gad7_val <= 9: print(\"Mild Anxiety\")\n",
    "elif gad7_val <= 14: print(\"Moderate Anxiety\")\n",
    "else: print(\"Severe Anxiety\")"
   ]
  },
  {
   "cell_type": "code",
   "execution_count": 49,
   "metadata": {
    "ExecuteTime": {
     "end_time": "2025-09-19T13:25:26.306239Z",
     "start_time": "2025-09-19T13:25:26.297448Z"
    }
   },
   "outputs": [
    {
     "name": "stdout",
     "output_type": "stream",
     "text": [
      "Moderate Anxiety\n"
     ]
    }
   ],
   "source": [
    "# Define GAD-7 as 12\n",
    "gad7_val = 12\n",
    "\n",
    "# Next, writing `if/elif/else` statement that prints out the corresponding ordinal level for the above three numerical values\n",
    "if gad7_val <= 4: print(\"Minimal Anxiety\")\n",
    "elif gad7_val <= 9: print(\"Mild Anxiety\")\n",
    "elif gad7_val <= 14: print(\"Moderate Anxiety\")\n",
    "else: print(\"Severe Anxiety\")"
   ]
  },
  {
   "cell_type": "code",
   "execution_count": 50,
   "metadata": {
    "ExecuteTime": {
     "end_time": "2025-09-19T13:25:39.347916Z",
     "start_time": "2025-09-19T13:25:39.335562Z"
    }
   },
   "outputs": [
    {
     "name": "stdout",
     "output_type": "stream",
     "text": [
      "Severe Anxiety\n"
     ]
    }
   ],
   "source": [
    "# Define GAD-7 as 20\n",
    "gad7_val = 20\n",
    "\n",
    "# Next, writing `if/elif/else` statement that prints out the corresponding ordinal level for the above three numerical values\n",
    "if gad7_val <= 4: print(\"Minimal Anxiety\")\n",
    "elif gad7_val <= 9: print(\"Mild Anxiety\")\n",
    "elif gad7_val <= 14: print(\"Moderate Anxiety\")\n",
    "else: print(\"Severe Anxiety\")"
   ]
  }
 ],
 "metadata": {
  "kernelspec": {
   "display_name": "Python 3 (ipykernel)",
   "language": "python",
   "name": "python3"
  },
  "language_info": {
   "codemirror_mode": {
    "name": "ipython",
    "version": 3
   },
   "file_extension": ".py",
   "mimetype": "text/x-python",
   "name": "python",
   "nbconvert_exporter": "python",
   "pygments_lexer": "ipython3",
   "version": "3.13.7"
  },
  "vscode": {
   "interpreter": {
    "hash": "aee8b7b246df8f9039afb4144a1f6fd8d2ca17a180786b69acc140d282b71a49"
   }
  }
 },
 "nbformat": 4,
 "nbformat_minor": 4
}
