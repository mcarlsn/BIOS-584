{
 "cells": [
  {
   "cell_type": "markdown",
   "metadata": {},
   "source": [
    "# BIOS-584 HW4 (20')\n",
    "## September 26, 2025"
   ]
  },
  {
   "cell_type": "markdown",
   "metadata": {},
   "source": [
    "## Submit as an HTML or PDF file"
   ]
  },
  {
   "cell_type": "markdown",
   "metadata": {},
   "source": [
    "Print your name (First Name and Last Name) below."
   ]
  },
  {
   "cell_type": "code",
   "metadata": {
    "ExecuteTime": {
     "end_time": "2025-09-19T14:27:34.631951Z",
     "start_time": "2025-09-19T14:27:34.625772Z"
    }
   },
   "source": "print(\"Madelyn Carlson\")",
   "outputs": [
    {
     "name": "stdout",
     "output_type": "stream",
     "text": [
      "Madelyn Carlson\n"
     ]
    }
   ],
   "execution_count": 1
  },
  {
   "cell_type": "markdown",
   "metadata": {},
   "source": [
    "- Import `numpy` and `matplotlib` libraries. Pay attention to the alias."
   ]
  },
  {
   "cell_type": "code",
   "metadata": {
    "ExecuteTime": {
     "end_time": "2025-09-28T18:01:28.436789Z",
     "start_time": "2025-09-28T18:01:28.319237Z"
    }
   },
   "source": [
    "import numpy as np\n",
    "import matplotlib as mat\n",
    "import matplotlib.pyplot as plt"
   ],
   "outputs": [],
   "execution_count": 23
  },
  {
   "cell_type": "markdown",
   "metadata": {},
   "source": [
    "## 1. For loops to count conditional statements (5')\n",
    "\n",
    "- Previously, we introduce generating normal vectors using `np.random.normal()`. \n",
    "- Set the seed value as `100`. (1')\n",
    "- Generate a random vector that follows a univariate normal distribution with a zero mean and a unit variance with a sample size of `1000` and rename it as `norm_vec`. (1')\n",
    "- Define an empty list called `eligible_ls`.\n",
    "- Write a for loop that iterate the entire 1000 samples. Append the value `True` to `eligible_ls` if each random variable lies between $-1.96$ and $1.96$, and `False` otherwise. (2')\n",
    "- Print out the first five elements of `norm_vec` and `eligible_ls`. (1')"
   ]
  },
  {
   "cell_type": "code",
   "metadata": {
    "ExecuteTime": {
     "end_time": "2025-09-28T17:37:50.442035Z",
     "start_time": "2025-09-28T17:37:50.410617Z"
    }
   },
   "source": [
    "## Step 1: Set the seed value as 100\n",
    "np.random.seed(100)\n",
    "\n",
    "## Step 2: Generate a random vector that follows a univariate normal distribution with a zero mean and a unit variance with a sample size of `1000` and rename it as `norm_vec`.\n",
    "# Sample size\n",
    "n_samples = 1000\n",
    "# Simulate random variables\n",
    "norm_vec = np.random.normal(loc=0, scale=1, size=n_samples)\n",
    "\n",
    "## Step 3: Define an empty list called \"eligible_ls\"\n",
    "eligible_ls = []\n",
    "\n",
    "## Step 4: Write a for loop that iterate the entire 1000 samples. Append the value `True` to `eligible_ls` if each random variable lies between -1.96 and 1.96, and `False` otherwise.\n",
    "for value in norm_vec:\n",
    "    if -1.96 <= value <= 1.96:\n",
    "        eligible_ls.append(True)\n",
    "    else:\n",
    "        eligible_ls.append(False)\n",
    "\n",
    "## Step 5: Print out the first five elements of `norm_vec` and `eligible_ls`. (see the next code block for printing `eligible_ls`)\n",
    "print (norm_vec[:5])"
   ],
   "outputs": [
    {
     "name": "stdout",
     "output_type": "stream",
     "text": [
      "[-1.74976547  0.3426804   1.1530358  -0.25243604  0.98132079]\n"
     ]
    }
   ],
   "execution_count": 2
  },
  {
   "metadata": {
    "ExecuteTime": {
     "end_time": "2025-09-28T17:38:15.192742Z",
     "start_time": "2025-09-28T17:38:15.189842Z"
    }
   },
   "cell_type": "code",
   "source": "print (eligible_ls[:5])",
   "outputs": [
    {
     "name": "stdout",
     "output_type": "stream",
     "text": [
      "[True, True, True, True, True]\n"
     ]
    }
   ],
   "execution_count": 3
  },
  {
   "cell_type": "markdown",
   "metadata": {},
   "source": [
    "## 2. This is a follow-up to question 1. (5')\n",
    "\n",
    "- If you run ```np.sum(list_eligible)```, what value is Python assigning to ```True``` or ```False``` elements in the sum? Write you answer as a comment. (1')\n",
    "- Assign a variable `eligible_sum` to the previous output.\n",
    "- Print out the type of the output above. (1')\n",
    "- Convert it to an integer using `int` instead of the previous type. Print out the corresponding value and type. (1')\n",
    "- Calculate the sample size of numbers who are outside $[-1.96, 1.96]$ using at least **two** methods. (2')\n",
    "    - You can use subtraction directly.\n",
    "    - Convert `True` and `False` to $1$ and $0$, respectively; Reverse $0$ and $1$ and calculate the corresponding sum."
   ]
  },
  {
   "cell_type": "code",
   "metadata": {
    "ExecuteTime": {
     "end_time": "2025-09-28T17:49:28.492543Z",
     "start_time": "2025-09-28T17:49:28.489015Z"
    }
   },
   "source": [
    "## Step 1: (Q) If you run np.sum(list_eligible), what value is Python assigning to \"True\" or \"False\" elements in the sum? Write answer as a comment:\n",
    "# It counts TRUE = 1 and FALSE = 0\n",
    "np.sum(eligible_ls)\n",
    "\n",
    "## Step 2: Assign a variable `eligible_sum` to the previous output.\n",
    "eligible_sum = np.sum(eligible_ls)\n",
    "print(\"Sum of eligible values:\", eligible_sum)\n",
    "print(\"Total samples:\", len(eligible_ls))\n",
    "\n",
    "# Another way to look at this is to look at proportion...\n",
    "eligible_sum_proportion = np.sum(eligible_ls) / len(eligible_ls)\n",
    "print(\"Proportion of eligible values:\", eligible_sum_proportion)\n",
    "\n",
    "## Step 3: Print out the TYPE of the output above.\n",
    "print(type(eligible_sum))"
   ],
   "outputs": [
    {
     "name": "stdout",
     "output_type": "stream",
     "text": [
      "Sum of eligible values: 937\n",
      "Total samples: 1000\n",
      "Proportion of eligible values: 0.937\n",
      "<class 'numpy.int64'>\n"
     ]
    }
   ],
   "execution_count": 14
  },
  {
   "cell_type": "markdown",
   "metadata": {},
   "source": [
    "## 3. For-Loops + Plotting (5')\n",
    "\n",
    "- Create an array of x-values with all the integers between 1 and 5, denoted as `x_vec`. Do not manually write out $1,2,\\cdots,5$. (1')\n",
    "- Create a vector ```y1_vec``` where each element is computed from the formula $ y_1 = x^2 + x^{-2}$. (1')\n",
    "- Create a vector ```y2_vec``` where each element is computed from the formula $ y_2 = \\log(x)$. (1')\n",
    "- Create an object ```list_vectors``` with elements ```vec_y1``` and ```vec_y2```.\n",
    "- Create a for-loop that goes through each element of ```list_vectors``` and plots each list of $y$ values against $x$. (2')\n",
    "\n",
    "Note: The final output should be a 2 dimensional scatter plot with two sets of points, with the $y_1$ and $y_2$ on the vertical axis, and the $x$ values on the horizontal axis. X-axes are labelled as `x`. Y-axes are labelled as `y1` and `y2`, respectively. Titles are labelled as `Scatterplot 1` and `Scatterplot 2`, respectively. Those labeling process should be written inside the for loop for automation workflows."
   ]
  },
  {
   "cell_type": "code",
   "metadata": {
    "ExecuteTime": {
     "end_time": "2025-09-28T18:02:31.620280Z",
     "start_time": "2025-09-28T18:02:31.520861Z"
    }
   },
   "source": [
    "## Step 1: Create an array of x-values with all the integers between 1 and 5, denoted as `x_vec`\n",
    "x_vec = np.arange (1,6)\n",
    "print(x_vec)\n",
    "## Step 2: Create a vector y1_vec where each element is computed from the formula y=x**2 + x**-2\n",
    "# First, I am convert x_vec to float array to allow negative powers\n",
    "x_vec = x_vec.astype(float)\n",
    "y1_vec = x_vec**2 + x_vec**-2\n",
    "print(y1_vec)\n",
    "## Step 3: Create a vector y2_vec where each element is computed from the formula y2=log(x)\n",
    "y2_vec = np.log(x_vec)\n",
    "print(y2_vec)\n",
    "## Step 4: Create an object list_vectors with elements vec_y1 and vec_y2\n",
    "list_vectors = [y1_vec, y2_vec]\n",
    "\n",
    "## Step 5: Create a for-loop that goes through each element of list_vectors and plots each list of y values against x\n",
    "for i, y_vec in enumerate(list_vectors, start=1):\n",
    "    plt.figure()\n",
    "    plt.scatter(x_vec, y_vec)\n",
    "    plt.xlabel('x')\n",
    "    plt.ylabel(f'y{i}')\n",
    "    plt.title(f'Scatterplot {i}')\n",
    "    plt.grid(True)\n",
    "    plt.show()"
   ],
   "outputs": [
    {
     "name": "stdout",
     "output_type": "stream",
     "text": [
      "[1 2 3 4 5]\n",
      "[ 2.          4.25        9.11111111 16.0625     25.04      ]\n",
      "[0.         0.69314718 1.09861229 1.38629436 1.60943791]\n"
     ]
    },
    {
     "data": {
      "text/plain": [
       "<Figure size 640x480 with 1 Axes>"
      ],
      "image/png": "[encoded data removed]"
     },
     "metadata": {},
     "output_type": "display_data",
     "jetTransient": {
      "display_id": null
     }
    },
    {
     "data": {
      "text/plain": [
       "<Figure size 640x480 with 1 Axes>"
      ],
      "image/png": "[encoded data removed]"
     },
     "metadata": {},
     "output_type": "display_data",
     "jetTransient": {
      "display_id": null
     }
    }
   ],
   "execution_count": 25
  },
  {
   "cell_type": "markdown",
   "metadata": {},
   "source": [
    "## 4. While Loops (5')\n",
    "\n",
    "Write a program to generate the Fibonacci sequence between $0$ and $1000$.<br>\n",
    "A Fibonacci sequence is a sequence in which each element is the sum of the two elements that precede it.\n",
    "Define initial values `a=0, b=1`, then the next value is `a+b=1`, so on.\n",
    "The first six values of a Fibonacci sequence given the above initialization is `0,1,1,2,3,5`.\n",
    "\n",
    "- Create a list `f_ls` that saves the first two initialized values $0$ and $1$.\n",
    "- Create a `count_id` that can evaluate the last element of the list `f_ls` and define the value as 1. \n",
    "    - Q: Why do we initialize `count_id` as 1 here?\n",
    "    - (**Note for TA:** (1') for initialization `f_ls` and `count_id`)\n",
    "- The condition for the while loop is to evaluate whether the last element of `f_ls` is smaller than $1000$. (1')\n",
    "- If we pass the while condition, we use the `append` function to compute the next element by summing up the previous two elements. (1')\n",
    "- Remember to increase `count_id` by 1. (1')\n",
    "- Print out the final list. Make sure the largest value is smaller than $1000$. (1')"
   ]
  },
  {
   "cell_type": "code",
   "metadata": {
    "ExecuteTime": {
     "end_time": "2025-09-28T18:27:51.631061Z",
     "start_time": "2025-09-28T18:27:51.625250Z"
    }
   },
   "source": [
    "## Step 1: Create a list `f_ls` that saves the first two initialized values 0 and 1\n",
    "f_ls = [0, 1]\n",
    "## Step 2: Create a `count_id` that can evaluate the last element of the list `f_ls` and define the value as 1.\n",
    "count_id = 1\n",
    "# Q: Why do we initialize `count_id` as 1 here?\n",
    "# A: f_ls initially contained two numbers (0 and 1) and bc Python uses zero-based indexing, f_ls[0] refers to the first element (0) and f_ls[1] refers to the second element (1). Since we want count_id to track the index of the last element currently in the list, it must start at 1 because 1 is the index of the last element. As we append new numbers, count_id will keep pointing to the last element.\n",
    "\n",
    "## Next step:\n",
    "while f_ls[-1] < 1000:\n",
    "    next_val = f_ls[count_id] + f_ls[count_id - 1]\n",
    "    f_ls.append(next_val)\n",
    "    count_id += 1\n",
    "if f_ls[-1] >= 1000:\n",
    "    f_ls.pop()\n",
    "\n",
    "# Print out the final list\n",
    "print(f_ls)\n",
    "\n",
    "# Make sure the largest value is smaller than 1000\n",
    "print(\"Largest value in the list:\", f_ls[-1])"
   ],
   "outputs": [
    {
     "name": "stdout",
     "output_type": "stream",
     "text": [
      "[0, 1, 1, 2, 3, 5, 8, 13, 21, 34, 55, 89, 144, 233, 377, 610, 987]\n",
      "Largest value in the list: 987\n"
     ]
    }
   ],
   "execution_count": 31
  }
 ],
 "metadata": {
  "kernelspec": {
   "display_name": "Python 3 (ipykernel)",
   "language": "python",
   "name": "python3"
  },
  "language_info": {
   "codemirror_mode": {
    "name": "ipython",
    "version": 3
   },
   "file_extension": ".py",
   "mimetype": "text/x-python",
   "name": "python",
   "nbconvert_exporter": "python",
   "pygments_lexer": "ipython3",
   "version": "3.11.4"
  }
 },
 "nbformat": 4,
 "nbformat_minor": 4
}
