{
 "cells": [
  {
   "attachments": {},
   "cell_type": "markdown",
   "metadata": {},
   "source": [
    "# HW5 (20')"
   ]
  },
  {
   "attachments": {},
   "cell_type": "markdown",
   "metadata": {},
   "source": [
    "## Submit as an HTML or PDF file\n",
    "\n",
    "<font size='4'>\n",
    "\n",
    "A note for PDF file: <br>\n",
    "It seems that we cannot directly save the Jupyter notebook as a PDF file due to a package loading error. <br>\n",
    "One way to achieve it is to: <br>\n",
    "<span style=\"color:red\">Convert it to an HTML file -> Open the HTML file -> Right Click -> Print -> Save as PDF.</span> <br>\n",
    "At least that is how I print out Quiz 2.\n",
    " \n",
    "Print your name (First Name and Last Name) below."
   ]
  },
  {
   "cell_type": "code",
   "execution_count": 1,
   "metadata": {
    "ExecuteTime": {
     "end_time": "2025-10-02T13:04:19.687850Z",
     "start_time": "2025-10-02T13:04:19.685317Z"
    }
   },
   "outputs": [
    {
     "name": "stdout",
     "output_type": "stream",
     "text": [
      "Madelyn Carlson\n"
     ]
    }
   ],
   "source": [
    "print('Madelyn Carlson')"
   ]
  },
  {
   "cell_type": "markdown",
   "metadata": {},
   "source": [
    "## 0. Make sure you sync forks and fetch origin the GitHub repository.\n",
    "\n",
    "- In particular, you should see three folders `data`, `figures`, and `lecture notes` under your `XXX/GitHub/BIOS-584` folder."
   ]
  },
  {
   "cell_type": "markdown",
   "metadata": {},
   "source": [
    "## 1. Play with `os` library and basic commands (13')"
   ]
  },
  {
   "attachments": {},
   "cell_type": "markdown",
   "metadata": {},
   "source": [
    "- Import `numpy` and `pandas` library with proper aliases.\n",
    "- Import a new library named `os` (1')\n",
    "- This is the \"operating system\" library\n",
    "    - Helpful for managing folders and special variables\n",
    "    - No need to install\n",
    "    - No need to rename"
   ]
  },
  {
   "cell_type": "code",
   "execution_count": 2,
   "metadata": {
    "ExecuteTime": {
     "end_time": "2025-10-02T13:07:11.111714Z",
     "start_time": "2025-10-02T13:07:10.043657Z"
    }
   },
   "outputs": [],
   "source": [
    "import numpy as np\n",
    "import pandas as pd\n",
    "import os"
   ]
  },
  {
   "cell_type": "markdown",
   "metadata": {},
   "source": [
    "- Use the new command `os.getcwd()` to show you the current working directory (CWD) in your computer\n",
    "    - Usually refers to the folder where your Jupyter notebook is stored.\n",
    "    - Assign `os.getcwd()` to a variable called `current_dir` and print it out. (1')\n",
    "    - Note that `current_dir` is a string variable. You can use `type(current_dir)` function or `isinstance(current_dir, str)` to verify."
   ]
  },
  {
   "cell_type": "code",
   "execution_count": 23,
   "metadata": {
    "ExecuteTime": {
     "end_time": "2025-10-02T13:28:41.604880Z",
     "start_time": "2025-10-02T13:28:41.597517Z"
    }
   },
   "outputs": [
    {
     "data": {
      "text/plain": [
       "'/Users/madelyncarlson/Documents/GitHub/BIOS-584/figures'"
      ]
     },
     "execution_count": 23,
     "metadata": {},
     "output_type": "execute_result"
    }
   ],
   "source": [
    "os.getcwd()"
   ]
  },
  {
   "cell_type": "code",
   "execution_count": 7,
   "metadata": {
    "ExecuteTime": {
     "end_time": "2025-10-02T13:09:56.525804Z",
     "start_time": "2025-10-02T13:09:56.521796Z"
    }
   },
   "outputs": [
    {
     "name": "stdout",
     "output_type": "stream",
     "text": [
      "/Users/madelyncarlson/Documents/GitHub/BIOS-584/Week 5\n"
     ]
    },
    {
     "data": {
      "text/plain": [
       "True"
      ]
     },
     "execution_count": 7,
     "metadata": {},
     "output_type": "execute_result"
    }
   ],
   "source": [
    "current_dir = os.getcwd()\n",
    "print(current_dir)\n",
    "\n",
    "# Verifying that current_dir is a string variable\n",
    "type(current_dir)\n",
    "isinstance(current_dir, str)"
   ]
  },
  {
   "cell_type": "markdown",
   "metadata": {},
   "source": [
    "- After getting the working directory, check the contents in the cwd.\n",
    "- Use the command `os.listdir()` to show you a list of all relevant files under your CWD.\n",
    "- Assign `os.listdir()` to a variable called `files_ls`. (1')\n",
    "- Use a for loop to iterately show the variable name of the entire list. (1')\n",
    "    - Each row will display one file name.\n",
    "    - Each student will have different results."
   ]
  },
  {
   "cell_type": "code",
   "execution_count": 11,
   "metadata": {
    "ExecuteTime": {
     "end_time": "2025-10-02T13:13:38.469059Z",
     "start_time": "2025-10-02T13:13:38.460478Z"
    }
   },
   "outputs": [
    {
     "name": "stdout",
     "output_type": "stream",
     "text": [
      "week-05-application-simulation.ipynb\n",
      "HW5.ipynb\n",
      ".ipynb_checkpoints\n"
     ]
    }
   ],
   "source": [
    "# Step 1: use the command `os.listdir()` to show a list of all relevant files under your CWD\n",
    "os.listdir()\n",
    "\n",
    "# Step 2: Assign `os.listdir()` to a variable called `files_ls`\n",
    "files_ls = os.listdir()\n",
    "#print(files_ls)\n",
    "\n",
    "# Step 3: Use a for loop to iteratively show the variable name of the entire list\n",
    "for file_name in files_ls:\n",
    "    print(file_name)"
   ]
  },
  {
   "cell_type": "markdown",
   "metadata": {},
   "source": [
    "- You should see a folder called `figures`. We will explore what it is.\n",
    "- Change the working directory as the path to folder `figures` using the command `os.chdir()`.\n",
    "    - Recall that the current working directory is stored using `os.getcwd()` and the output is a string.\n",
    "- Use the format `\"{}/figures\".format(current_dir)` to create the new working directory. Assign the new string to `current_dir_2`  (1')\n",
    "- Verify your previous step using `os.getcwd()` and print it out. (1')\n",
    "- Print out all files under the new directory (No need to use the for loop). (1')"
   ]
  },
  {
   "cell_type": "code",
   "execution_count": 21,
   "metadata": {
    "ExecuteTime": {
     "end_time": "2025-10-02T13:25:21.570453Z",
     "start_time": "2025-10-02T13:25:21.561607Z"
    }
   },
   "outputs": [
    {
     "name": "stdout",
     "output_type": "stream",
     "text": [
      "/Users/madelyncarlson/Documents/GitHub/BIOS-584/figures\n",
      "['quiz1_prep_2.png', 'quiz1_prep_3.png', 'quiz1_prep_1.png', 'python_kernel.png', 'quiz1_prep_4.png', 'project_flow.png', 'quiz1_q8.png', 'quiz1_q9.png', 'quiz1_prep_5.png', 'elif.png', 'forloop.png', 'grading_scale.png', 'pycharm_shortcut_package.png', 'if.png', 'ifelse.png', 'quiz1_q7.png', 'quiz1_q6.png', 'quiz1_q4.png', 'quiz1_q5.png', 'quiz1_q1.png', 'quiz1_q2.png', 'quiz1_q3.png']\n"
     ]
    }
   ],
   "source": [
    "# Step 1: Change the working directly as the path to folder \"figures\" & assign the new string to 'current_dir_2'\n",
    "current_dir = os.getcwd()\n",
    "## My \"figures\" folder isn't in the same folder as this file. I need to go up one level to get to where that folder is stored\n",
    "parent_dir = os.path.dirname(current_dir)\n",
    "current_dir_2 = \"{}/figures\".format(parent_dir)\n",
    "os.chdir(current_dir_2)\n",
    "\n",
    "# Step 2: Verify your previous step using os.getcwd() and print it out\n",
    "print(os.getcwd())\n",
    "\n",
    "# Step 3: Print all files under the new directory\n",
    "files_ls = os.listdir()\n",
    "print(files_ls)\n"
   ]
  },
  {
   "cell_type": "markdown",
   "metadata": {},
   "source": [
    "- Change your working directory back to the original one and verify it (no need to show the files under original directory). (1')\n",
    "    - For Madeline: Since each student has different directories, for this specific problem, check whether this directory is the same as the initial one. If yes, give them the full credit."
   ]
  },
  {
   "cell_type": "code",
   "execution_count": 27,
   "metadata": {
    "ExecuteTime": {
     "end_time": "2025-10-02T13:43:10.491281Z",
     "start_time": "2025-10-02T13:43:10.485006Z"
    }
   },
   "outputs": [
    {
     "name": "stdout",
     "output_type": "stream",
     "text": [
      "/Users/madelyncarlson/Documents/GitHub/BIOS-584/Week 5\n"
     ]
    }
   ],
   "source": [
    "# Step 1: Change the working directory back to the original one and verify it\n",
    "current_dir = \"/Users/madelyncarlson/Documents/GitHub/BIOS-584/Week 5\"\n",
    "os.chdir(current_dir)\n",
    "print(os.getcwd())"
   ]
  },
  {
   "cell_type": "markdown",
   "metadata": {},
   "source": [
    "- After we change the working directory back to the original one, we learn how to create a new directory (or a new folder).\n",
    "    - Create a new folder named `hw5_extension` under the current working directory.\n",
    "    - Create a string following the format `\"{}/hw5_extension\".format(current_dir)` and use the new command `os.mkdir()`. (1')\n",
    "    - Note that we do not need to assign `os.mkdir()` to a variable. `xxx = os.mkdir()` is wrong.\n",
    "    - If this directory is already created, Python will yield an error. Make sure this is a new folder."
   ]
  },
  {
   "cell_type": "code",
   "execution_count": 30,
   "metadata": {
    "ExecuteTime": {
     "end_time": "2025-10-02T13:45:12.472893Z",
     "start_time": "2025-10-02T13:45:12.444631Z"
    }
   },
   "outputs": [
    {
     "ename": "FileExistsError",
     "evalue": "[Errno 17] File exists: '/Users/madelyncarlson/Documents/GitHub/BIOS-584/Week 5/hw5_extension'",
     "output_type": "error",
     "traceback": [
      "\u001B[31m---------------------------------------------------------------------------\u001B[39m",
      "\u001B[31mFileExistsError\u001B[39m                           Traceback (most recent call last)",
      "\u001B[36mCell\u001B[39m\u001B[36m \u001B[39m\u001B[32mIn[30]\u001B[39m\u001B[32m, line 3\u001B[39m\n\u001B[32m      1\u001B[39m \u001B[38;5;66;03m# Step 1: Create a few folder called `hw5_extension` under the current working directory\u001B[39;00m\n\u001B[32m      2\u001B[39m hw5_extension = \u001B[33m\"\u001B[39m\u001B[38;5;132;01m{}\u001B[39;00m\u001B[33m/hw5_extension\u001B[39m\u001B[33m\"\u001B[39m.format(current_dir)\n\u001B[32m----> \u001B[39m\u001B[32m3\u001B[39m \u001B[43mos\u001B[49m\u001B[43m.\u001B[49m\u001B[43mmkdir\u001B[49m\u001B[43m(\u001B[49m\u001B[43mhw5_extension\u001B[49m\u001B[43m)\u001B[49m\n\u001B[32m      5\u001B[39m \u001B[38;5;66;03m# Step 2: Create a string following the format `\"{}/hw5_extension\".format(current_dir)` and use the new command `os.mkdir()`\u001B[39;00m\n",
      "\u001B[31mFileExistsError\u001B[39m: [Errno 17] File exists: '/Users/madelyncarlson/Documents/GitHub/BIOS-584/Week 5/hw5_extension'"
     ]
    }
   ],
   "source": [
    "# Step 1: Create a few folder called `hw5_extension` under the current working directory\n",
    "hw5_extension = \"{}/hw5_extension\".format(current_dir)\n",
    "os.mkdir(hw5_extension)\n",
    "# If you see an error message below, it's because I ran the code twice. The first time I ran the code, it worked! \n",
    "# Please ignore error message."
   ]
  },
  {
   "cell_type": "markdown",
   "metadata": {},
   "source": [
    "#### Now it should be easier for you to load a dataset from any directory.\n",
    "- Load the excel file `PTSD dataset.xlsx` using `pd.read_excel()` again and name it as `ptsd_df`. (1')\n",
    "    - Note that this file is stored under the `data` folder.\n",
    "    - Choose the sheet named `main_dataset`.\n",
    "    - How should you spell out the directory? Use `'{}/data/PTSD data.xlsx'.format(current_dir)`\n",
    "- Select 1st, 2nd, and 5th column names using `.iloc[:, ids_ls]`, where `ids_ls` is a list of relevant indices. (1')\n",
    "- Rename those three columns as a new dataset named `ptsd_sub_df`, save `ptsd_sub_df` under the previous `hw5_extension` folder using `pd.DataFrame.to_excel()` function with a sheet name `columns_1_2_5`, and give it a name as `PTSD Sub Dataset.xlsx`. (1')\n",
    "    - Details can be found https://pandas.pydata.org/docs/reference/api/pandas.DataFrame.to_excel.html.\n",
    "    - There is a similar function for csv known as `read_csv()` and `to_csv()`.\n",
    "- Provide a snapshot that includes your `hw5_extension` and the excel spreadsheet under it. You can save your snapshot under `hw5_extension` for plotting puroses. (1')"
   ]
  },
  {
   "cell_type": "code",
   "execution_count": 48,
   "metadata": {
    "ExecuteTime": {
     "end_time": "2025-10-02T14:32:31.520019Z",
     "start_time": "2025-10-02T14:32:31.041025Z"
    }
   },
   "outputs": [
    {
     "name": "stdout",
     "output_type": "stream",
     "text": [
      "   record_id  ptsdpresent_caps  caps_intake\n",
      "0        460                 1           15\n",
      "1       5942                 1           23\n",
      "2       5366                 1           31\n",
      "3       3480                 1           31\n",
      "4       1029                 1           28\n"
     ]
    }
   ],
   "source": [
    "# Step 1: Load the Excel file PTSD dataset and name it as ptsd_df\n",
    "ptsd_df = pd.read_excel(\"/Users/madelyncarlson/Documents/GitHub/BIOS-584/data/PTSD dataset.xlsx\", sheet_name=\"main_dataset\")\n",
    "\n",
    "# Step 2: Select the 1st, 2nd, and 5th columns\n",
    "ids_ls = [0, 1, 4]\n",
    "#cols = ptsd_df.iloc[:, ids_ls]\n",
    "#print(cols.head())\n",
    "\n",
    "# Step 3: Rename those three columns as a new dataset called ptsd_sub_df saved to the hw5_extension folder\n",
    "ptsd_sub_df = ptsd_df.iloc[:, ids_ls]\n",
    "print(ptsd_sub_df.head())\n",
    "ptsd_sub_df.to_excel(\"/Users/madelyncarlson/Documents/GitHub/BIOS-584/Week 5/hw5_extension/PTSD Sub Dataset.xlsx\", sheet_name='columns_1_2_5', index=False)"
   ]
  },
  {
   "cell_type": "markdown",
   "metadata": {},
   "source": [
    "### Place your snapshot below (Make sure it is a Markdown)"
   ]
  },
  {
   "attachments": {
    "83844ccf-533d-4c55-975e-fd6fdf191eb6.png": {
     "image/png": "[encoded data removed]"
    }
   },
   "cell_type": "markdown",
   "metadata": {},
   "source": [
    "![Screenshot_SubDataset_Carlson.png](attachment:83844ccf-533d-4c55-975e-fd6fdf191eb6.png)"
   ]
  },
  {
   "cell_type": "markdown",
   "metadata": {},
   "source": [
    "## 2. Extension of for loop + if/else statements (7')\n",
    "\n",
    "In the class, we illustrate simulating a $U\\sim Uniform(0,1)$ and set up a cutoff value to generate a binary variable with a certain probability distribution. <br>\n",
    "What if we have three treatment groups with a 2:2:1 ratio?\n",
    "\n",
    "- Suppose we define our `N_total` as 200.\n",
    "- Set a seed value with $100$ (1')\n",
    "- Initialize an empty list (or an array) to save the treatment group id.\n",
    "- To simplify, let's call it $1$, $2$, and $3$, and the proportion of treatment groups 1, 2, and 3 is approximately $2:2:1$.\n",
    "- Write a for loop that iterate `N_total` replications.\n",
    "    - Within each iteration, generate a uniform variable `u_iter`. (1')\n",
    "    - Properly define two cutoff values and apply `if/elif/else` statements to select the corresponding treatment groups (3')\n",
    "- Convert `treatment_ls` to an array and assign it to `treatment_arr`.\n",
    "- Print out the frequency and porportion of three treatment groups. (2')\n",
    "    - The final output should look like\n",
    "    - `Group 1 has X patients (Y%). Group 2 has XX patients (YY%). Group 3 has XXX patients (YYY%)`.\n",
    "    - You can use for loop to simplify, but it is optional."
   ]
  },
  {
   "cell_type": "code",
   "metadata": {
    "ExecuteTime": {
     "end_time": "2025-10-02T20:31:39.105141Z",
     "start_time": "2025-10-02T20:31:39.098357Z"
    }
   },
   "source": [
    "# Define our N-total as 200\n",
    "N_total = 200\n",
    "# Set a seed value with 100\n",
    "np.random.seed(100)\n",
    "# Initialize an empty list to save the treatment group id\n",
    "treatment_ls = []\n",
    "# Write a for loop that iterates N_total replications\n",
    "for _ in range(N_total):\n",
    "    u_iter = np.random.uniform(0, 1)\n",
    "    if u_iter < 0.4: # because 2/5 = 0.4\n",
    "        treatment_ls.append(1)\n",
    "    elif u_iter < 0.8: # the cumulative proportion for groups 1 and 2 (0.4+0.4)\n",
    "        treatment_ls.append(2)\n",
    "    else:\n",
    "        treatment_ls.append(3)\n",
    "# Convert ls to array\n",
    "treatment_arr = np.array(treatment_ls)\n",
    "# Print out frequency and proportion of the three treatment groups\n",
    "freq_group1 = np.sum(treatment_arr == 1)\n",
    "freq_group2 = np.sum(treatment_arr == 2)\n",
    "freq_group3 = np.sum(treatment_arr == 3)\n",
    "prop_group1 = (freq_group1 / N_total) * 100\n",
    "prop_group2 = (freq_group2 / N_total) * 100\n",
    "prop_group3 = (freq_group3 / N_total) * 100\n",
    "print(f\"Group 1 has {freq_group1} patients ({prop_group1:.1f}%).\")\n",
    "print(f\"Group 2 has {freq_group2} patients ({prop_group2:.1f}%).\")\n",
    "print(f\"Group 3 has {freq_group3} patients ({prop_group3:.1f}%).\")"
   ],
   "outputs": [
    {
     "name": "stdout",
     "output_type": "stream",
     "text": [
      "Group 1 has 87 patients (43.5%).\n",
      "Group 2 has 72 patients (36.0%).\n",
      "Group 3 has 41 patients (20.5%).\n"
     ]
    }
   ],
   "execution_count": 57
  }
 ],
 "metadata": {
  "kernelspec": {
   "display_name": "Python 3 (ipykernel)",
   "language": "python",
   "name": "python3"
  },
  "language_info": {
   "codemirror_mode": {
    "name": "ipython",
    "version": 3
   },
   "file_extension": ".py",
   "mimetype": "text/x-python",
   "name": "python",
   "nbconvert_exporter": "python",
   "pygments_lexer": "ipython3",
   "version": "3.13.7"
  },
  "vscode": {
   "interpreter": {
    "hash": "45fc1f684f6f416f40889115beff3ddf69879b64cf4bfee48cb72a61e9d15d1a"
   }
  }
 },
 "nbformat": 4,
 "nbformat_minor": 4
}
